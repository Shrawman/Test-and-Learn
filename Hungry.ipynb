{
 "cells": [
  {
   "cell_type": "code",
   "execution_count": 2,
   "id": "a7c52fdc-16c4-4503-8619-682ec61f06c4",
   "metadata": {},
   "outputs": [
    {
     "name": "stdout",
     "output_type": "stream",
     "text": [
      "['banana', 'mango', 'apple', 'orange', 'strawberry', 'watermalon']\n",
      "['supper', 'lunch', 'breakfast', 'snacks']\n",
      "['cocacola', 'sprite', 'milk', 'fanta', 'lemon']\n"
     ]
    }
   ],
   "source": [
    "fruits = ['banana','mango','apple','orange','strawberry','watermalon']\n",
    "meals = ['supper','lunch','breakfast','snacks']\n",
    "drinks = ['cocacola','sprite','milk','fanta','lemon']\n",
    "\n",
    "print(fruits)\n",
    "print(meals)\n",
    "print (drinks)"
   ]
  },
  {
   "cell_type": "code",
   "execution_count": null,
   "id": "2ebbd5aa-0e17-4fa7-bd40-dcc49454e7fd",
   "metadata": {},
   "outputs": [],
   "source": []
  }
 ],
 "metadata": {
  "kernelspec": {
   "display_name": "Python 3 (ipykernel)",
   "language": "python",
   "name": "python3"
  },
  "language_info": {
   "codemirror_mode": {
    "name": "ipython",
    "version": 3
   },
   "file_extension": ".py",
   "mimetype": "text/x-python",
   "name": "python",
   "nbconvert_exporter": "python",
   "pygments_lexer": "ipython3",
   "version": "3.12.1"
  }
 },
 "nbformat": 4,
 "nbformat_minor": 5
}
