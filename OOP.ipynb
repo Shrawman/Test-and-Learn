{
 "cells": [
  {
   "cell_type": "code",
   "execution_count": 3,
   "id": "f719a8ad-3977-42ee-be49-8bbe02743f60",
   "metadata": {},
   "outputs": [
    {
     "name": "stdout",
     "output_type": "stream",
     "text": [
      "Sadia is very cunning\n",
      "Hello I am Sadia \n",
      "My age is 23 \n",
      "My Home Distict is Gazipur\n",
      "\n",
      "Joya is very sweet\n",
      "Hello I am Joya \n",
      "My age is 25 \n",
      "My Home Distict is Kurigram\n",
      "\n",
      "Ashraful I can't tell about you\n",
      "Hello I am Ashraful \n",
      "My age is 25 \n",
      "My Home Distict is Sirajganj\n",
      "\n",
      "Mithi is very lively\n",
      "Hello I am Mithi \n",
      "My age is 24 \n",
      "My Home Distict is Gaibandha\n",
      "\n",
      "Anik is very smart\n",
      "Hello I am Anik \n",
      "My age is 24 \n",
      "My Home Distict is Rajshahi\n",
      "\n",
      "Umit I can't tell about you\n",
      "Hello I am Umit \n",
      "My age is 24 \n",
      "My Home Distict is Narail\n",
      "\n"
     ]
    }
   ],
   "source": [
    "class Friend:\n",
    "    def __init__(self,name,age,district):\n",
    "        self.name= name\n",
    "        self.age = age\n",
    "        self.district = district\n",
    "        \n",
    "    def character(self):\n",
    "        if (self.district == \"Gazipur\"):\n",
    "          print(self.name, \"is very cunning\")  \n",
    "        elif (self.district == \"Kurigram\"):\n",
    "          print(self.name, \"is very sweet\")  \n",
    "        elif (self.district == \"Gaibandha\"):\n",
    "          print(self.name, \"is very lively\")  \n",
    "        elif (self.district == \"Rajshahi\"):\n",
    "          print(self.name, \"is very smart\")\n",
    "        else:\n",
    "           print(self.name, \"I can't tell about you\") \n",
    "\n",
    "        print(f'Hello I am {self.name} \\nMy age is {self.age} \\nMy Home Distict is {self.district}\\n') \n",
    "\n",
    "sadia = Friend(\"Sadia\",23,\"Gazipur\")\n",
    "joya = Friend(\"Joya\",25,\"Kurigram\")\n",
    "ash = Friend(\"Ashraful\",25,\"Sirajganj\")\n",
    "mithi = Friend(\"Mithi\",24,\"Gaibandha\")\n",
    "anik = Friend(\"Anik\",24,\"Rajshahi\")\n",
    "umit = Friend(\"Umit\",24,\"Narail\")\n",
    "f = [sadia,joya,ash,mithi,anik,umit]\n",
    "\n",
    "for i in f:\n",
    "   i.character()\n",
    "          \n"
   ]
  },
  {
   "cell_type": "code",
   "execution_count": null,
   "id": "56ee6184-c494-49d2-b59b-b26f0ad9d6de",
   "metadata": {},
   "outputs": [],
   "source": []
  }
 ],
 "metadata": {
  "kernelspec": {
   "display_name": "Python 3 (ipykernel)",
   "language": "python",
   "name": "python3"
  },
  "language_info": {
   "codemirror_mode": {
    "name": "ipython",
    "version": 3
   },
   "file_extension": ".py",
   "mimetype": "text/x-python",
   "name": "python",
   "nbconvert_exporter": "python",
   "pygments_lexer": "ipython3",
   "version": "3.12.1"
  }
 },
 "nbformat": 4,
 "nbformat_minor": 5
}
