{
 "cells": [
  {
   "cell_type": "code",
   "execution_count": 6,
   "id": "a7c52fdc-16c4-4503-8619-682ec61f06c4",
   "metadata": {},
   "outputs": [
    {
     "name": "stdout",
     "output_type": "stream",
     "text": [
      "\n",
      "Here is the list of FastFoods: \n",
      "French Freies\n",
      "Burger\n",
      "HotDog\n",
      "\n",
      "Here is the list of Fruits: \n",
      "banana\n",
      "mango\n",
      "apple\n",
      "orange\n",
      "strawberry\n",
      "watermalon\n"
     ]
    }
   ],
   "source": [
    "fruits = ['banana','mango','apple','orange','strawberry','watermalon']\n",
    "meals = ['supper','lunch','breakfast','snacks']\n",
    "drinks = ['cocacola','sprite','milk','fanta','lemon']\n",
    "fastfoods = ['French Freies','Burger','HotDog']\n",
    "\n",
    "print('\\n'+ \"Here is the list of FastFoods: \")\n",
    "for item in fastfoods:\n",
    "    print(item)\n",
    "\n",
    "print('\\n'+ \"Here is the list of Fruits: \")\n",
    "for item in fruits:\n",
    "    print(item)"
   ]
  },
  {
   "cell_type": "code",
   "execution_count": null,
   "id": "2ebbd5aa-0e17-4fa7-bd40-dcc49454e7fd",
   "metadata": {},
   "outputs": [],
   "source": []
  }
 ],
 "metadata": {
  "kernelspec": {
   "display_name": "Python 3 (ipykernel)",
   "language": "python",
   "name": "python3"
  },
  "language_info": {
   "codemirror_mode": {
    "name": "ipython",
    "version": 3
   },
   "file_extension": ".py",
   "mimetype": "text/x-python",
   "name": "python",
   "nbconvert_exporter": "python",
   "pygments_lexer": "ipython3",
   "version": "3.12.1"
  }
 },
 "nbformat": 4,
 "nbformat_minor": 5
}
