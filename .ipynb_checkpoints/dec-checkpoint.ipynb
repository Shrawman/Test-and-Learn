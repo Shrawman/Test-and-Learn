{
 "cells": [
  {
   "cell_type": "code",
   "execution_count": null,
   "id": "dc98b04b-55a6-460a-9d13-221ad70d33e4",
   "metadata": {},
   "outputs": [],
   "source": [
    "print(\"Hello world\")"
   ]
  },
  {
   "cell_type": "code",
   "execution_count": null,
   "id": "ddfb7f9b-fc7c-4cc9-bba2-6518f659e532",
   "metadata": {},
   "outputs": [],
   "source": []
  }
 ],
 "metadata": {
  "kernelspec": {
   "display_name": "Python 3 (ipykernel)",
   "language": "python",
   "name": "python3"
  },
  "language_info": {
   "name": ""
  }
 },
 "nbformat": 4,
 "nbformat_minor": 5
}
