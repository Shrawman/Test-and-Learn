{
 "cells": [
  {
   "cell_type": "code",
   "execution_count": 51,
   "id": "ce330df1-330b-48fe-af01-f2834726816a",
   "metadata": {},
   "outputs": [
    {
     "name": "stdout",
     "output_type": "stream",
     "text": [
      "1\n",
      "9\n",
      "25\n"
     ]
    }
   ],
   "source": [
    "for i in range(1,6):\n",
    "    if(i%2==0):\n",
    "        continue;\n",
    "    print(i*i);\n",
    "        "
   ]
  },
  {
   "cell_type": "code",
   "execution_count": 6,
   "id": "f5a69375-4c3f-45bc-94f1-c0e417005bfd",
   "metadata": {},
   "outputs": [
    {
     "data": {
      "text/plain": [
       "24"
      ]
     },
     "execution_count": 6,
     "metadata": {},
     "output_type": "execute_result"
    }
   ],
   "source": [
    "birth_year=2000\n",
    "current_year=2024\n",
    "age=current_year-birth_year\n",
    "age"
   ]
  },
  {
   "cell_type": "code",
   "execution_count": 19,
   "id": "2ab42198-90b1-428e-a740-28b436d94278",
   "metadata": {},
   "outputs": [
    {
     "name": "stdout",
     "output_type": "stream",
     "text": [
      "Total cost is 15125.0\n",
      "Binary of cost is 10\n"
     ]
    }
   ],
   "source": [
    "tiles_area = (5.5)**2\n",
    "print(\"Total cost is\",tiles_area*500)\n",
    "p =16\n",
    "print(\"Binary of cost is\",format(p,'x'))"
   ]
  },
  {
   "cell_type": "code",
   "execution_count": 49,
   "id": "47d99888-ef48-4c5e-9299-2b27ed3a7117",
   "metadata": {},
   "outputs": [
    {
     "name": "stdout",
     "output_type": "stream",
     "text": [
      "The Address is:  \n",
      "Amena School \n",
      "Gopalganj \n",
      "Bangladesh \n",
      "\n",
      "The f-Address is: \n",
      "Amena School \n",
      "Gopalganj \n",
      "Bangladesh \n",
      "\n",
      "The number in decimal is 123\n",
      "The number in Octal is 173\n",
      "The number in Hexadecimal is 7b\n",
      "The number in Binarty is 1111011\n"
     ]
    }
   ],
   "source": [
    "street =\"Amena School \"\n",
    "city = \"Gopalganj \"\n",
    "country= \"Bangladesh \"\n",
    "print(\"The Address is: \",'\\n'+street+'\\n'+city+'\\n'+country+'\\n')\n",
    "print(f\"The f-Address is: \\n{street}\\n{city}\\n{country}\\n\")\n",
    "number= 123;\n",
    "octal= format(number,'o')\n",
    "hexa = format(number,'x')\n",
    "bin= format(number,'b')\n",
    "\n",
    "print(f\"The number in decimal is {number}\\nThe number in Octal is {octal}\\nThe number in Hexadecimal is {hexa}\\nThe number in Binarty is {bin}\")"
   ]
  },
  {
   "cell_type": "code",
   "execution_count": 40,
   "id": "9857f1d2-ecf4-4c33-be00-6818a4e9e7fe",
   "metadata": {},
   "outputs": [
    {
     "name": "stdout",
     "output_type": "stream",
     "text": [
      "sun\n",
      "earth\n"
     ]
    }
   ],
   "source": [
    "str=\"The earth revolves around the sun\";\n",
    "print(str[-3:])\n",
    "print(str[4:9])"
   ]
  },
  {
   "cell_type": "code",
   "execution_count": 68,
   "id": "d327be89-7f84-4b60-899b-8e2e94011a49",
   "metadata": {},
   "outputs": [
    {
     "name": "stdout",
     "output_type": "stream",
     "text": [
      "Extra expense in February= 150\n",
      "Total expense is 11470\n",
      "Did I spent 200 in any month? False\n",
      "[2400, 2350, 2600, 2130, 2190, 1980]\n",
      "[2400, 2600, 2130, 2190, 1980]\n",
      "[2400, 333, 2600, 2130, 2190, 1980]\n",
      "6\n",
      "None\n"
     ]
    }
   ],
   "source": [
    "expense= [2200,2350,2600,2130,2190]\n",
    "print(f\"Extra expense in February= {expense[1]-expense[0]}\")\n",
    "total=0;\n",
    "for i in expense:\n",
    "    total=total+i\n",
    "    \n",
    "print(f'Total expense is {total}')\n",
    "print(f'Did I spent 200 in any month? {2000 in expense}')\n",
    "expense.append(1980);\n",
    "expense[0]=expense[0]+200\n",
    "print(expense)\n",
    "expense.remove(2350)\n",
    "print(expense)\n",
    "expense.insert(1,333)\n",
    "print(expense)\n",
    "print(len(expense))\n",
    "print(expense.sort())"
   ]
  },
  {
   "cell_type": "code",
   "execution_count": 72,
   "id": "147d7381-2bd9-49fb-bc0c-b3e9b3291d2b",
   "metadata": {},
   "outputs": [
    {
     "name": "stdin",
     "output_type": "stream",
     "text": [
      "Enter a city name: mumbai\n"
     ]
    },
    {
     "name": "stdout",
     "output_type": "stream",
     "text": [
      "mumbai is a city from India)\n"
     ]
    }
   ],
   "source": [
    "india = [\"mumbai\", \"banglore\", \"chennai\", \"delhi\"]\n",
    "pakistan = [\"lahore\",\"karachi\",\"islamabad\"]\n",
    "bangladesh = [\"dhaka\", \"khulna\", \"rangpur\"]\n",
    "\n",
    "i= input(\"Enter a city name:\")\n",
    "j = input(\"Enter another city name: \")\n",
    "\n",
    "if i in india and :\n",
    "    print(f'{i} is a city from India)')\n",
    "elif i in pakistan:\n",
    "    print(f'{i} is a city from Pakisatn)')\n",
    "elif i in bangladesh:\n",
    "    print(f'{i} is a city from Bangladesh)')\n",
    "else:\n",
    "    print(f'Sorry!!I do not know the answer')\n"
   ]
  },
  {
   "cell_type": "code",
   "execution_count": 75,
   "id": "11675ebe-c593-45bb-bab5-9c822b6162da",
   "metadata": {},
   "outputs": [
    {
     "name": "stdout",
     "output_type": "stream",
     "text": [
      "The number of heads is4\n",
      "The number of tails is6\n"
     ]
    }
   ],
   "source": [
    "result = [\"heads\",\"tails\",\"tails\",\"heads\",\"tails\",\"heads\",\"heads\",\"tails\",\"tails\",\"tails\"]\n",
    "heads= 0\n",
    "tails=0\n",
    "\n",
    "for i in result:\n",
    "    if(i ==\"heads\"):\n",
    "        heads=heads+1;\n",
    "    else:\n",
    "        tails=tails+1;\n",
    "\n",
    "print(f'The number of heads is {heads}\\nThe number of tails is {tails}')"
   ]
  },
  {
   "cell_type": "code",
   "execution_count": 84,
   "id": "37e51e50-78b9-456b-961c-44be0070f490",
   "metadata": {},
   "outputs": [
    {
     "name": "stdout",
     "output_type": "stream",
     "text": [
      "*\n",
      "**\n",
      "***\n",
      "****\n",
      "*****\n"
     ]
    }
   ],
   "source": [
    "for i in range(1,6):\n",
    "    s =''\n",
    "    for j in range(i):\n",
    "        s += '*'\n",
    "    print(s)"
   ]
  },
  {
   "cell_type": "code",
   "execution_count": 87,
   "id": "033e282d-b28a-48ca-9916-0a7f09e582a0",
   "metadata": {},
   "outputs": [
    {
     "name": "stdout",
     "output_type": "stream",
     "text": [
      "124\n",
      "94\n"
     ]
    }
   ],
   "source": [
    "def calculate_sum(n):\n",
    "    total = 0\n",
    "    for item in n:\n",
    "        total=total+item\n",
    "    return total\n",
    "\n",
    "list1 = [30,43,44,3,4]\n",
    "list2= [45,5,6,34,4]\n",
    "\n",
    "print(calculate_sum(list1))\n",
    "print(calculate_sum(list2))\n",
    "\n",
    "\n"
   ]
  },
  {
   "cell_type": "code",
   "execution_count": 94,
   "id": "dce59607-9fbd-465c-8ab7-0ee5f26dc666",
   "metadata": {},
   "outputs": [
    {
     "name": "stdin",
     "output_type": "stream",
     "text": [
      "Enter the base 4\n",
      "Enter the height 5\n"
     ]
    },
    {
     "name": "stdout",
     "output_type": "stream",
     "text": [
      "10.0\n"
     ]
    }
   ],
   "source": [
    "def area(height,base):\n",
    "    answer = 1/2*float(base)*float(height)\n",
    "    return answer\n",
    "\n",
    "b = input(\"Enter the base\");\n",
    "h = input(\"Enter the height\");\n",
    "\n",
    "print(area(b,h))"
   ]
  },
  {
   "cell_type": "code",
   "execution_count": 98,
   "id": "6f027dad-83ff-48a2-95c0-3ab170d64ab6",
   "metadata": {},
   "outputs": [
    {
     "name": "stdout",
     "output_type": "stream",
     "text": [
      "\n",
      "*\n",
      "**\n",
      "***\n",
      "****\n"
     ]
    }
   ],
   "source": [
    "def shape(n):\n",
    "    for i in range(n+1):\n",
    "        s=''\n",
    "        for j in range(i):\n",
    "            s += \"*\"\n",
    "        print(s)\n",
    "\n",
    "shape(4)"
   ]
  },
  {
   "cell_type": "code",
   "execution_count": 6,
   "id": "639c186d-2597-463d-8492-59ef4545d994",
   "metadata": {},
   "outputs": [
    {
     "ename": "KeyError",
     "evalue": "'shrawman'",
     "output_type": "error",
     "traceback": [
      "\u001b[1;31m---------------------------------------------------------------------------\u001b[0m",
      "\u001b[1;31mKeyError\u001b[0m                                  Traceback (most recent call last)",
      "Cell \u001b[1;32mIn[6], line 2\u001b[0m\n\u001b[0;32m      1\u001b[0m book \u001b[38;5;241m=\u001b[39m {}\n\u001b[1;32m----> 2\u001b[0m \u001b[43mbook\u001b[49m\u001b[43m[\u001b[49m\u001b[38;5;124;43m'\u001b[39;49m\u001b[38;5;124;43mshrawman\u001b[39;49m\u001b[38;5;124;43m'\u001b[39;49m\u001b[43m]\u001b[49m\n\u001b[0;32m      3\u001b[0m {\n\u001b[0;32m      4\u001b[0m     \u001b[38;5;124m'\u001b[39m\u001b[38;5;124mname\u001b[39m\u001b[38;5;124m'\u001b[39m:\u001b[38;5;124m'\u001b[39m\u001b[38;5;124mshrawman\u001b[39m\u001b[38;5;124m'\u001b[39m,\n\u001b[0;32m      5\u001b[0m     \u001b[38;5;124m'\u001b[39m\u001b[38;5;124madderess\u001b[39m\u001b[38;5;124m'\u001b[39m: \u001b[38;5;124m'\u001b[39m\u001b[38;5;124m198/2 Amena School Road,Gopalganj\u001b[39m\u001b[38;5;124m'\u001b[39m\n\u001b[0;32m      6\u001b[0m }\n\u001b[0;32m      8\u001b[0m book[\u001b[38;5;124m'\u001b[39m\u001b[38;5;124mnayon\u001b[39m\u001b[38;5;124m'\u001b[39m]\n",
      "\u001b[1;31mKeyError\u001b[0m: 'shrawman'"
     ]
    }
   ],
   "source": [
    "book = {}\n",
    "book['shrawman']\n",
    "{\n",
    "    'name':'shrawman',\n",
    "    'adderess': '198/2 Amena School Road,Gopalganj'\n",
    "}\n",
    "\n",
    "book['nayon']\n",
    "{\n",
    "    'name':'nayon',\n",
    "    'adderess': '198/2 Amena School Road,Gopalganj'\n",
    "}\n",
    "\n",
    "import json\n",
    "p = json.dumps(book)\n",
    "print(p)"
   ]
  },
  {
   "cell_type": "code",
   "execution_count": 20,
   "id": "d38100bf-1aee-4c2c-827f-218501246e69",
   "metadata": {},
   "outputs": [
    {
     "name": "stdout",
     "output_type": "stream",
     "text": [
      "['Teacher:', 'Why', 'are', 'u', 'late,', 'Frank?\\n']\n",
      "['Frank:', 'Beacuse', 'of', 'the', 'sign\\n']\n",
      "['Teacher:', 'What', 'sign?\\n']\n",
      "['Frank:', 'The', 'one', 'that', 'says', \"'School'\\n\"]\n"
     ]
    }
   ],
   "source": [
    "f = open(\"D:\\\\demo.text\",\"r\")\n",
    "f_out = open(\"D:\\\\demowc.text\",\"w\")\n",
    "for line in f:\n",
    "    tokens=line.split(' ')\n",
    "    f_out.write(line + \"Wordcount:\" +str(len(tokens))+'\\n')\n",
    "    print(str(tokens))\n",
    "f.close()\n",
    "f_out.close()"
   ]
  },
  {
   "cell_type": "code",
   "execution_count": 25,
   "id": "8ff85f79-0a04-4ed9-ae6f-22cf90a89741",
   "metadata": {},
   "outputs": [
    {
     "name": "stdin",
     "output_type": "stream",
     "text": [
      "Enter first number 5\n",
      "Enter second number 0\n"
     ]
    },
    {
     "name": "stdout",
     "output_type": "stream",
     "text": [
      "Exception occured ZeroDivisionError division by zero\n",
      "Division is  None\n"
     ]
    }
   ],
   "source": [
    "num1 = input(\"Enter first number\" )\n",
    "num2 = input(\"Enter second number\" )\n",
    "try:\n",
    "    z = int(num1)/int(num2)\n",
    "except Exception as e:\n",
    "    print(\"Exception occured\",type(e).__name__,e)\n",
    "    z = None\n",
    "print('Division is ',z)\n"
   ]
  },
  {
   "cell_type": "code",
   "execution_count": 26,
   "id": "1a712cc1-8773-4d45-891f-b7fea2e515db",
   "metadata": {},
   "outputs": [
    {
     "name": "stdin",
     "output_type": "stream",
     "text": [
      "Enter operation (add, remove, query or print): add\n",
      "Enter country name to add: myanmar\n",
      "Enter population for myanmar 35\n"
     ]
    },
    {
     "name": "stdout",
     "output_type": "stream",
     "text": [
      "china==>143\n",
      "india==>136\n",
      "usa==>32\n",
      "pakistan==>21\n",
      "myanmar==>35.0\n"
     ]
    }
   ],
   "source": [
    "population = {\n",
    "    'china': 143,\n",
    "    'india': 136,\n",
    "    'usa': 32,\n",
    "    'pakistan': 21\n",
    "}\n",
    "\n",
    "def add():\n",
    "    country=input(\"Enter country name to add:\")\n",
    "    country=country.lower()\n",
    "    if country in population:\n",
    "        print(\"Country already exist in our dataset. Terminating\")\n",
    "        return\n",
    "    p=input(f\"Enter population for {country}\")\n",
    "    p=float(p)\n",
    "    population[country]=p # Adds new key value pair to dictionary\n",
    "    print_all()\n",
    "\n",
    "def remove():\n",
    "    country = input(\"Enter country name to remove:\")\n",
    "    country = country.lower()\n",
    "    if country not in population:\n",
    "        print(\"Country doesn't exist in our dataset. Terminating\")\n",
    "        return\n",
    "    del population[country]\n",
    "    print_all()\n",
    "\n",
    "def query():\n",
    "    country = input(\"Enter country name to query:\")\n",
    "    country = country.lower()\n",
    "    if country not in population:\n",
    "        print(\"Country doesn't exist in our dataset. Terminating\")\n",
    "        return\n",
    "    print(f\"Population of {country} is: {population[country]} crore\")\n",
    "\n",
    "def print_all():\n",
    "    for country, p in population.items():\n",
    "        print(f\"{country}==>{p}\")\n",
    "\n",
    "def main():\n",
    "    op=input(\"Enter operation (add, remove, query or print):\")\n",
    "    if op.lower() == 'add':\n",
    "        add()\n",
    "    elif op.lower() == 'remove':\n",
    "        remove()\n",
    "    elif op.lower() == 'query':\n",
    "        query()\n",
    "    elif op.lower() == 'print':\n",
    "        print_all()\n",
    "\n",
    "if __name__ == '__main__':\n",
    "    main()"
   ]
  },
  {
   "cell_type": "code",
   "execution_count": 51,
   "id": "7a1908a3-2694-4ae1-8f39-74731111b1ab",
   "metadata": {},
   "outputs": [
    {
     "name": "stdout",
     "output_type": "stream",
     "text": [
      "{'Two': 2, 'roads': 2, 'diverged': 2, 'in': 3, 'a': 3, 'yellow': 1, 'wood,\\n': 1, 'And': 6, 'sorry': 1, 'I': 8, 'could': 1, 'not': 1, 'travel': 1, 'both\\n': 1, 'be': 2, 'one': 3, 'traveler,': 1, 'long': 1, 'stood\\n': 1, 'looked': 1, 'down': 1, 'as': 5, 'far': 1, 'could\\n': 1, 'To': 1, 'where': 1, 'it': 2, 'bent': 1, 'the': 8, 'undergrowth;\\n': 1, '\\n': 3, 'Then': 1, 'took': 2, 'other,': 1, 'just': 1, 'fair,\\n': 1, 'having': 1, 'perhaps': 1, 'better': 1, 'claim,\\n': 1, 'Because': 1, 'was': 1, 'grassy': 1, 'and': 3, 'wanted': 1, 'wear;\\n': 1, 'Though': 1, 'for': 2, 'that': 3, 'passing': 1, 'there\\n': 1, 'Had': 1, 'worn': 1, 'them': 1, 'really': 1, 'about': 1, 'same,\\n': 1, 'both': 1, 'morning': 1, 'equally': 1, 'lay\\n': 1, 'In': 1, 'leaves': 1, 'no': 1, 'step': 1, 'had': 1, 'trodden': 1, 'black.\\n': 1, 'Oh,': 1, 'kept': 1, 'first': 1, 'another': 1, 'day!\\n': 1, 'Yet': 1, 'knowing': 1, 'how': 1, 'way': 1, 'leads': 1, 'on': 1, 'to': 1, 'way,\\n': 1, 'doubted': 1, 'if': 1, 'should': 1, 'ever': 1, 'come': 1, 'back.\\n': 1, 'shall': 1, 'telling': 1, 'this': 1, 'with': 1, 'sigh\\n': 1, 'Somewhere': 1, 'ages': 2, 'hence:\\n': 1, 'wood,': 1, 'Iâ€”\\n': 1, 'less': 1, 'traveled': 1, 'by,\\n': 1, 'has': 1, 'made': 1, 'all': 1, 'difference.': 1}\n",
      "Max occurances of any word is: 8\n",
      "Words with max occurances are: \n",
      "I\n",
      "the\n"
     ]
    }
   ],
   "source": [
    "wordstat= {}\n",
    "f = open (\"D:\\\\poem.txt\",\"r+\")\n",
    "for line in f:\n",
    "    words=line.split(' ')\n",
    "    for word in words:\n",
    "        if word in wordstat:\n",
    "            wordstat[word] += 1\n",
    "        else:\n",
    "            wordstat[word]=1\n",
    "print(wordstat)\n",
    "word_occurances = list(wordstat.values())\n",
    "max_count = max(word_occurances)\n",
    "print(\"Max occurances of any word is:\",max_count)\n",
    "\n",
    "print(\"Words with max occurances are: \")\n",
    "for word, count in wordstat.items():\n",
    "    if count==max_count:\n",
    "        print(word)\n",
    "        \n",
    "f.close()"
   ]
  },
  {
   "cell_type": "code",
   "execution_count": null,
   "id": "124ff235-fc0f-4dec-b524-6e37f26dc5a9",
   "metadata": {},
   "outputs": [],
   "source": []
  }
 ],
 "metadata": {
  "kernelspec": {
   "display_name": "Python 3 (ipykernel)",
   "language": "python",
   "name": "python3"
  },
  "language_info": {
   "codemirror_mode": {
    "name": "ipython",
    "version": 3
   },
   "file_extension": ".py",
   "mimetype": "text/x-python",
   "name": "python",
   "nbconvert_exporter": "python",
   "pygments_lexer": "ipython3",
   "version": "3.12.1"
  }
 },
 "nbformat": 4,
 "nbformat_minor": 5
}
